{
 "cells": [
  {
   "cell_type": "code",
   "execution_count": 2,
   "id": "a307884e",
   "metadata": {},
   "outputs": [],
   "source": [
    "import pandas as pd\n",
    "import numpy as np\n",
    "import matplotlib.pylab as plt\n",
    "import seaborn as sns\n",
    "import re\n",
    "\n",
    "pd.set_option('display.max_columns', 500)\n",
    "\n",
    "# For plotting\n",
    "from itertools import cycle\n",
    "\n",
    "plt.style.use(\"ggplot\")\n",
    "color_pal = plt.rcParams[\"axes.prop_cycle\"].by_key()[\"color\"]\n",
    "color_cycle = cycle(plt.rcParams[\"axes.prop_cycle\"].by_key()[\"color\"])\n"
   ]
  },
  {
   "cell_type": "markdown",
   "id": "8b51583f",
   "metadata": {},
   "source": [
    "### Load in the Dataset"
   ]
  },
  {
   "cell_type": "code",
   "execution_count": 3,
   "id": "4689c089",
   "metadata": {},
   "outputs": [],
   "source": [
    "tweets = pd.read_csv('tweets.csv')"
   ]
  },
  {
   "cell_type": "code",
   "execution_count": 8,
   "id": "19f6547e",
   "metadata": {},
   "outputs": [
    {
     "data": {
      "text/html": [
       "<div>\n",
       "<style scoped>\n",
       "    .dataframe tbody tr th:only-of-type {\n",
       "        vertical-align: middle;\n",
       "    }\n",
       "\n",
       "    .dataframe tbody tr th {\n",
       "        vertical-align: top;\n",
       "    }\n",
       "\n",
       "    .dataframe thead th {\n",
       "        text-align: right;\n",
       "    }\n",
       "</style>\n",
       "<table border=\"1\" class=\"dataframe\">\n",
       "  <thead>\n",
       "    <tr style=\"text-align: right;\">\n",
       "      <th></th>\n",
       "      <th>wordle_id</th>\n",
       "      <th>tweet_id</th>\n",
       "      <th>tweet_date</th>\n",
       "      <th>tweet_username</th>\n",
       "      <th>tweet_text</th>\n",
       "    </tr>\n",
       "  </thead>\n",
       "  <tbody>\n",
       "    <tr>\n",
       "      <th>0</th>\n",
       "      <td>210</td>\n",
       "      <td>1482553374591660037</td>\n",
       "      <td>2022-01-16 03:20:43+00:00</td>\n",
       "      <td>bpszebes</td>\n",
       "      <td>Wordle 210 4/6\\n\\n⬛⬛🟨🟨⬛\\n🟩⬛⬛⬛⬛\\n🟩🟩🟨⬛⬛\\n🟩🟩🟩🟩🟩</td>\n",
       "    </tr>\n",
       "    <tr>\n",
       "      <th>1</th>\n",
       "      <td>210</td>\n",
       "      <td>1482553387937898499</td>\n",
       "      <td>2022-01-16 03:20:46+00:00</td>\n",
       "      <td>cruisecoup</td>\n",
       "      <td>Wordle 210 4/6\\n\\n⬜⬜⬜⬜⬜\\n🟩🟩🟨🟨⬜\\n🟩🟩⬜🟩🟨\\n🟩🟩🟩🟩🟩</td>\n",
       "    </tr>\n",
       "    <tr>\n",
       "      <th>2</th>\n",
       "      <td>210</td>\n",
       "      <td>1482553422276698113</td>\n",
       "      <td>2022-01-16 03:20:55+00:00</td>\n",
       "      <td>DestroVega</td>\n",
       "      <td>Wordle 210 4/6\\n\\n⬜⬜⬜🟨⬜\\n⬜🟩⬜🟨⬜\\n⬜🟩⬜🟨⬜\\n🟩🟩🟩🟩🟩</td>\n",
       "    </tr>\n",
       "    <tr>\n",
       "      <th>3</th>\n",
       "      <td>210</td>\n",
       "      <td>1482553436910628866</td>\n",
       "      <td>2022-01-16 03:20:58+00:00</td>\n",
       "      <td>brenmardash</td>\n",
       "      <td>Wordle 210 3/6\\n\\n⬜⬜🟨⬜⬜\\n🟨🟨⬜⬜⬜\\n🟩🟩🟩🟩🟩</td>\n",
       "    </tr>\n",
       "    <tr>\n",
       "      <th>4</th>\n",
       "      <td>210</td>\n",
       "      <td>1482553445726908420</td>\n",
       "      <td>2022-01-16 03:21:00+00:00</td>\n",
       "      <td>KatieHowse2</td>\n",
       "      <td>Wordle 210 3/6\\n\\n⬛⬛🟨⬛⬛\\n🟩🟩🟩⬛⬛\\n🟩🟩🟩🟩🟩</td>\n",
       "    </tr>\n",
       "  </tbody>\n",
       "</table>\n",
       "</div>"
      ],
      "text/plain": [
       "   wordle_id             tweet_id                 tweet_date tweet_username  \\\n",
       "0        210  1482553374591660037  2022-01-16 03:20:43+00:00       bpszebes   \n",
       "1        210  1482553387937898499  2022-01-16 03:20:46+00:00     cruisecoup   \n",
       "2        210  1482553422276698113  2022-01-16 03:20:55+00:00     DestroVega   \n",
       "3        210  1482553436910628866  2022-01-16 03:20:58+00:00    brenmardash   \n",
       "4        210  1482553445726908420  2022-01-16 03:21:00+00:00    KatieHowse2   \n",
       "\n",
       "                                     tweet_text  \n",
       "0  Wordle 210 4/6\\n\\n⬛⬛🟨🟨⬛\\n🟩⬛⬛⬛⬛\\n🟩🟩🟨⬛⬛\\n🟩🟩🟩🟩🟩  \n",
       "1  Wordle 210 4/6\\n\\n⬜⬜⬜⬜⬜\\n🟩🟩🟨🟨⬜\\n🟩🟩⬜🟩🟨\\n🟩🟩🟩🟩🟩  \n",
       "2  Wordle 210 4/6\\n\\n⬜⬜⬜🟨⬜\\n⬜🟩⬜🟨⬜\\n⬜🟩⬜🟨⬜\\n🟩🟩🟩🟩🟩  \n",
       "3         Wordle 210 3/6\\n\\n⬜⬜🟨⬜⬜\\n🟨🟨⬜⬜⬜\\n🟩🟩🟩🟩🟩  \n",
       "4         Wordle 210 3/6\\n\\n⬛⬛🟨⬛⬛\\n🟩🟩🟩⬛⬛\\n🟩🟩🟩🟩🟩  "
      ]
     },
     "execution_count": 8,
     "metadata": {},
     "output_type": "execute_result"
    }
   ],
   "source": [
    "tweets.head()"
   ]
  },
  {
   "cell_type": "code",
   "execution_count": null,
   "id": "68d5c07d",
   "metadata": {},
   "outputs": [],
   "source": [
    "tweets['tweet_datetime'] = pd.to_datetime(tweets['tweet_date'])\n",
    "tweets['tweet_date'] = tweets['tweet_datetime'].dt.date\n",
    "tweets['wordle_id'] = tweets['tweet_text'].str[:10]\n",
    "tweets['n_attempts'] = tweets['tweet_text'].str[11].astype('int')\n"
   ]
  },
  {
   "cell_type": "code",
   "execution_count": 15,
   "id": "49cae04a",
   "metadata": {},
   "outputs": [
    {
     "data": {
      "text/plain": [
       "0         210\n",
       "1         210\n",
       "2         210\n",
       "3         210\n",
       "4         210\n",
       "         ... \n",
       "234181    251\n",
       "234182    251\n",
       "234183    251\n",
       "234184    251\n",
       "234185    251\n",
       "Name: id, Length: 234186, dtype: int64"
      ]
     },
     "execution_count": 15,
     "metadata": {},
     "output_type": "execute_result"
    }
   ],
   "source": [
    "tweets['id'] = tweets['tweet_text'].str[7:10].astype('int')\n",
    "tweets['id']"
   ]
  },
  {
   "cell_type": "code",
   "execution_count": null,
   "id": "181a5ac6",
   "metadata": {},
   "outputs": [],
   "source": []
  }
 ],
 "metadata": {
  "kernelspec": {
   "display_name": "base",
   "language": "python",
   "name": "python3"
  },
  "language_info": {
   "codemirror_mode": {
    "name": "ipython",
    "version": 3
   },
   "file_extension": ".py",
   "mimetype": "text/x-python",
   "name": "python",
   "nbconvert_exporter": "python",
   "pygments_lexer": "ipython3",
   "version": "3.13.5"
  }
 },
 "nbformat": 4,
 "nbformat_minor": 5
}
